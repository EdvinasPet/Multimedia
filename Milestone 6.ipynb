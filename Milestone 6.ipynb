{
 "cells": [
  {
   "cell_type": "markdown",
   "id": "0628c4b5",
   "metadata": {},
   "source": [
    "# Coding Considering the Threshold of Hearing\n",
    "# Group members:\n",
    "# Ivan Giacomo Collela\n",
    "# Andrea Fusillo\n",
    "# Davide Chiossi\n",
    "# Edvinas Petravicius"
   ]
  },
  {
   "cell_type": "markdown",
   "id": "4e20a8ae",
   "metadata": {},
   "source": [
    "."
   ]
  },
  {
   "cell_type": "markdown",
   "id": "69f7333a",
   "metadata": {},
   "source": [
    "."
   ]
  },
  {
   "cell_type": "markdown",
   "id": "201e0c6e",
   "metadata": {},
   "source": [
    "# 2. A higher frequency-resolution approach"
   ]
  },
  {
   "cell_type": "code",
   "execution_count": null,
   "id": "35b7c45d",
   "metadata": {},
   "outputs": [],
   "source": []
  },
  {
   "cell_type": "code",
   "execution_count": null,
   "id": "c12a771f",
   "metadata": {},
   "outputs": [],
   "source": [
    "''' Considering the threshold of human hearing. '''\n",
    "\n",
    "\n",
    "import numpy as np\n",
    "import math\n",
    "import minimal\n",
    "import logging\n",
    "from scipy.fftpack import fft\n",
    "\n",
    "from basic_ToH import Threshold\n",
    "from basic_ToH import Threshold__verbose\n",
    "\n",
    "minimal.parser.add_argument('--divisions', type=int, default=1,\n",
    "                            help='Number of divisions for each subband')\n",
    "\n",
    "\n",
    "class AdvancedThreshold(Threshold):\n",
    "\n",
    "    def apply_fft(self, subband):\n",
    "        return fft(subband)\n",
    "\n",
    "    def divide_subbands(self, chunk_DWT, divisions):\n",
    "        divided_chunk_DWT = chunk_DWT.copy()  # copy data chunk\n",
    "        for i in range(self.dwt_levels):\n",
    "            # you get the sub-bands of the i-th level\n",
    "            subbands = divided_chunk_DWT[self.slices[i+1]['d'][0]]\n",
    "            # divide each sub-band into as many sub-bands as there are divisions required\n",
    "            divided_subbands = np.array_split(subbands, divisions, axis=1)\n",
    "            # apply FFT to each subband\n",
    "            divided_subbands = [self.apply_fft(subband) for subband in divided_subbands]\n",
    "            # reconstruct the data chunk with the divided and transformed sub-bands\n",
    "            divided_chunk_DWT[self.slices[i+1]['d'][0]] = np.concatenate(divided_subbands, axis=1)\n",
    "        return divided_chunk_DWT\n",
    "\n",
    "    \n",
    "    def analyze(self, chunk):\n",
    "        chunk_DWT = super().analyze(chunk)  # run the DWT of the data chunk\n",
    "        divisions = minimal.args.divisions  # read the number of divisions required by the 'divisions' argument\n",
    "        chunk_DWT = self.divide_subbands(chunk_DWT, divisions)  # perform sub-band division\n",
    "        # Quantize sub-bands as in the original class\n",
    "        chunk_DWT[self.slices[0][0]] = (chunk_DWT[self.slices[0][0]] / self.quantization_steps[0]).astype(np.int32)\n",
    "        for i in range(self.dwt_levels):\n",
    "            chunk_DWT[self.slices[i+1]['d'][0]] = (chunk_DWT[self.slices[i+1]['d'][0]] / self.quantization_steps[i+1]).astype(np.int32)\n",
    "        return chunk_DWT\n",
    "\n",
    "    def synthesize(self, chunk_DWT):\n",
    "        divisions = minimal.args.divisions  # read the number of divisions required by the 'divisions' argument\n",
    "        chunk_DWT = self.divide_subbands(chunk_DWT, divisions)  # perform sub-band division\n",
    "\n",
    "        # Dequantitise sub-bands as in the original class\n",
    "        chunk_DWT[self.slices[0][0]] = chunk_DWT[self.slices[0][0]] * self.quantization_steps[0]\n",
    "        for i in range(self.dwt_levels):\n",
    "            chunk_DWT[self.slices[i+1]['d'][0]] = chunk_DWT[self.slices[i+1]['d'][0]] * self.quantization_steps[i+1]\n",
    "\n",
    "        # Perform inverse DWT (IDWT) to reconstruct the original signal\n",
    "        return super().synthesize(chunk_DWT)\n",
    "\n",
    "\n",
    "\n",
    "\n",
    "  \n",
    "\n",
    "\n",
    "class AdvancedThreshold__verbose(AdvancedThreshold, Threshold__verbose):\n",
    "    pass\n",
    "\n",
    "\n",
    "try:\n",
    "    import argcomplete  # <tab> completion for argparse.\n",
    "except ImportError:\n",
    "    logging.warning(\"Unable to import argcomplete (optional)\")\n",
    "\n",
    "if __name__ == \"__main__\":\n",
    "    minimal.parser.description = __doc__\n",
    "    try:\n",
    "        argcomplete.autocomplete(minimal.parser)\n",
    "    except Exception:\n",
    "        logging.warning(\"argcomplete not working :-/\")\n",
    "    minimal.args = minimal.parser."
   ]
  }
 ],
 "metadata": {
  "kernelspec": {
   "display_name": "Python 3 (ipykernel)",
   "language": "python",
   "name": "python3"
  },
  "language_info": {
   "codemirror_mode": {
    "name": "ipython",
    "version": 3
   },
   "file_extension": ".py",
   "mimetype": "text/x-python",
   "name": "python",
   "nbconvert_exporter": "python",
   "pygments_lexer": "ipython3",
   "version": "3.8.10"
  }
 },
 "nbformat": 4,
 "nbformat_minor": 5
}
